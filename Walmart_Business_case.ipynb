{
  "nbformat": 4,
  "nbformat_minor": 0,
  "metadata": {
    "colab": {
      "provenance": [],
      "authorship_tag": "ABX9TyOUW7wlUd1+TFki6fl0B+VU",
      "include_colab_link": true
    },
    "kernelspec": {
      "name": "python3",
      "display_name": "Python 3"
    },
    "language_info": {
      "name": "python"
    }
  },
  "cells": [
    {
      "cell_type": "markdown",
      "metadata": {
        "id": "view-in-github",
        "colab_type": "text"
      },
      "source": [
        "<a href=\"https://colab.research.google.com/github/imaranjan/-Data-Driven-Customer-Insights-Walmart-Case-Study/blob/main/Walmart_Business_case.ipynb\" target=\"_parent\"><img src=\"https://colab.research.google.com/assets/colab-badge.svg\" alt=\"Open In Colab\"/></a>"
      ]
    },
    {
      "cell_type": "markdown",
      "source": [
        "# **Walmart Business Case**"
      ],
      "metadata": {
        "id": "1uxT16Aa_xrN"
      }
    },
    {
      "cell_type": "markdown",
      "source": [
        "**Problem Statement:**\n",
        "\n",
        "Analyzing the customer purchase behaviour against the customer’s gender, marital status and age groups."
      ],
      "metadata": {
        "id": "3MarucpuqEVV"
      }
    },
    {
      "cell_type": "code",
      "execution_count": null,
      "metadata": {
        "id": "vK1MNC-MN8xm"
      },
      "outputs": [],
      "source": [
        "# Import the required python libraries\n",
        "\n",
        "import numpy as np\n",
        "import pandas as pd\n",
        "import matplotlib.pyplot as plt\n",
        "import seaborn as sns"
      ]
    },
    {
      "cell_type": "code",
      "source": [
        "# Importing the dataset\n",
        "\n",
        "df = pd.read_csv(\"walmart_data.csv\")"
      ],
      "metadata": {
        "id": "AnsL4hESOTW3"
      },
      "execution_count": null,
      "outputs": []
    },
    {
      "cell_type": "code",
      "source": [
        "df.head() # Exploring the data"
      ],
      "metadata": {
        "colab": {
          "base_uri": "https://localhost:8080/",
          "height": 295
        },
        "id": "fN1UU604_jYY",
        "outputId": "ea0127f4-2ab9-4473-b26d-9ecf937156ab"
      },
      "execution_count": null,
      "outputs": [
        {
          "output_type": "execute_result",
          "data": {
            "text/plain": [
              "   User_ID Product_ID Gender   Age  Occupation City_Category  \\\n",
              "0  1000001  P00069042      F  0-17          10             A   \n",
              "1  1000001  P00248942      F  0-17          10             A   \n",
              "2  1000001  P00087842      F  0-17          10             A   \n",
              "3  1000001  P00085442      F  0-17          10             A   \n",
              "4  1000002  P00285442      M   55+          16             C   \n",
              "\n",
              "  Stay_In_Current_City_Years  Marital_Status  Product_Category  Purchase  \n",
              "0                          2               0                 3      8370  \n",
              "1                          2               0                 1     15200  \n",
              "2                          2               0                12      1422  \n",
              "3                          2               0                12      1057  \n",
              "4                         4+               0                 8      7969  "
            ],
            "text/html": [
              "\n",
              "  <div id=\"df-5a2fa130-ec28-471c-b6c6-2da6385c8fc5\" class=\"colab-df-container\">\n",
              "    <div>\n",
              "<style scoped>\n",
              "    .dataframe tbody tr th:only-of-type {\n",
              "        vertical-align: middle;\n",
              "    }\n",
              "\n",
              "    .dataframe tbody tr th {\n",
              "        vertical-align: top;\n",
              "    }\n",
              "\n",
              "    .dataframe thead th {\n",
              "        text-align: right;\n",
              "    }\n",
              "</style>\n",
              "<table border=\"1\" class=\"dataframe\">\n",
              "  <thead>\n",
              "    <tr style=\"text-align: right;\">\n",
              "      <th></th>\n",
              "      <th>User_ID</th>\n",
              "      <th>Product_ID</th>\n",
              "      <th>Gender</th>\n",
              "      <th>Age</th>\n",
              "      <th>Occupation</th>\n",
              "      <th>City_Category</th>\n",
              "      <th>Stay_In_Current_City_Years</th>\n",
              "      <th>Marital_Status</th>\n",
              "      <th>Product_Category</th>\n",
              "      <th>Purchase</th>\n",
              "    </tr>\n",
              "  </thead>\n",
              "  <tbody>\n",
              "    <tr>\n",
              "      <th>0</th>\n",
              "      <td>1000001</td>\n",
              "      <td>P00069042</td>\n",
              "      <td>F</td>\n",
              "      <td>0-17</td>\n",
              "      <td>10</td>\n",
              "      <td>A</td>\n",
              "      <td>2</td>\n",
              "      <td>0</td>\n",
              "      <td>3</td>\n",
              "      <td>8370</td>\n",
              "    </tr>\n",
              "    <tr>\n",
              "      <th>1</th>\n",
              "      <td>1000001</td>\n",
              "      <td>P00248942</td>\n",
              "      <td>F</td>\n",
              "      <td>0-17</td>\n",
              "      <td>10</td>\n",
              "      <td>A</td>\n",
              "      <td>2</td>\n",
              "      <td>0</td>\n",
              "      <td>1</td>\n",
              "      <td>15200</td>\n",
              "    </tr>\n",
              "    <tr>\n",
              "      <th>2</th>\n",
              "      <td>1000001</td>\n",
              "      <td>P00087842</td>\n",
              "      <td>F</td>\n",
              "      <td>0-17</td>\n",
              "      <td>10</td>\n",
              "      <td>A</td>\n",
              "      <td>2</td>\n",
              "      <td>0</td>\n",
              "      <td>12</td>\n",
              "      <td>1422</td>\n",
              "    </tr>\n",
              "    <tr>\n",
              "      <th>3</th>\n",
              "      <td>1000001</td>\n",
              "      <td>P00085442</td>\n",
              "      <td>F</td>\n",
              "      <td>0-17</td>\n",
              "      <td>10</td>\n",
              "      <td>A</td>\n",
              "      <td>2</td>\n",
              "      <td>0</td>\n",
              "      <td>12</td>\n",
              "      <td>1057</td>\n",
              "    </tr>\n",
              "    <tr>\n",
              "      <th>4</th>\n",
              "      <td>1000002</td>\n",
              "      <td>P00285442</td>\n",
              "      <td>M</td>\n",
              "      <td>55+</td>\n",
              "      <td>16</td>\n",
              "      <td>C</td>\n",
              "      <td>4+</td>\n",
              "      <td>0</td>\n",
              "      <td>8</td>\n",
              "      <td>7969</td>\n",
              "    </tr>\n",
              "  </tbody>\n",
              "</table>\n",
              "</div>\n",
              "    <div class=\"colab-df-buttons\">\n",
              "\n",
              "  <div class=\"colab-df-container\">\n",
              "    <button class=\"colab-df-convert\" onclick=\"convertToInteractive('df-5a2fa130-ec28-471c-b6c6-2da6385c8fc5')\"\n",
              "            title=\"Convert this dataframe to an interactive table.\"\n",
              "            style=\"display:none;\">\n",
              "\n",
              "  <svg xmlns=\"http://www.w3.org/2000/svg\" height=\"24px\" viewBox=\"0 -960 960 960\">\n",
              "    <path d=\"M120-120v-720h720v720H120Zm60-500h600v-160H180v160Zm220 220h160v-160H400v160Zm0 220h160v-160H400v160ZM180-400h160v-160H180v160Zm440 0h160v-160H620v160ZM180-180h160v-160H180v160Zm440 0h160v-160H620v160Z\"/>\n",
              "  </svg>\n",
              "    </button>\n",
              "\n",
              "  <style>\n",
              "    .colab-df-container {\n",
              "      display:flex;\n",
              "      gap: 12px;\n",
              "    }\n",
              "\n",
              "    .colab-df-convert {\n",
              "      background-color: #E8F0FE;\n",
              "      border: none;\n",
              "      border-radius: 50%;\n",
              "      cursor: pointer;\n",
              "      display: none;\n",
              "      fill: #1967D2;\n",
              "      height: 32px;\n",
              "      padding: 0 0 0 0;\n",
              "      width: 32px;\n",
              "    }\n",
              "\n",
              "    .colab-df-convert:hover {\n",
              "      background-color: #E2EBFA;\n",
              "      box-shadow: 0px 1px 2px rgba(60, 64, 67, 0.3), 0px 1px 3px 1px rgba(60, 64, 67, 0.15);\n",
              "      fill: #174EA6;\n",
              "    }\n",
              "\n",
              "    .colab-df-buttons div {\n",
              "      margin-bottom: 4px;\n",
              "    }\n",
              "\n",
              "    [theme=dark] .colab-df-convert {\n",
              "      background-color: #3B4455;\n",
              "      fill: #D2E3FC;\n",
              "    }\n",
              "\n",
              "    [theme=dark] .colab-df-convert:hover {\n",
              "      background-color: #434B5C;\n",
              "      box-shadow: 0px 1px 3px 1px rgba(0, 0, 0, 0.15);\n",
              "      filter: drop-shadow(0px 1px 2px rgba(0, 0, 0, 0.3));\n",
              "      fill: #FFFFFF;\n",
              "    }\n",
              "  </style>\n",
              "\n",
              "    <script>\n",
              "      const buttonEl =\n",
              "        document.querySelector('#df-5a2fa130-ec28-471c-b6c6-2da6385c8fc5 button.colab-df-convert');\n",
              "      buttonEl.style.display =\n",
              "        google.colab.kernel.accessAllowed ? 'block' : 'none';\n",
              "\n",
              "      async function convertToInteractive(key) {\n",
              "        const element = document.querySelector('#df-5a2fa130-ec28-471c-b6c6-2da6385c8fc5');\n",
              "        const dataTable =\n",
              "          await google.colab.kernel.invokeFunction('convertToInteractive',\n",
              "                                                    [key], {});\n",
              "        if (!dataTable) return;\n",
              "\n",
              "        const docLinkHtml = 'Like what you see? Visit the ' +\n",
              "          '<a target=\"_blank\" href=https://colab.research.google.com/notebooks/data_table.ipynb>data table notebook</a>'\n",
              "          + ' to learn more about interactive tables.';\n",
              "        element.innerHTML = '';\n",
              "        dataTable['output_type'] = 'display_data';\n",
              "        await google.colab.output.renderOutput(dataTable, element);\n",
              "        const docLink = document.createElement('div');\n",
              "        docLink.innerHTML = docLinkHtml;\n",
              "        element.appendChild(docLink);\n",
              "      }\n",
              "    </script>\n",
              "  </div>\n",
              "\n",
              "\n",
              "<div id=\"df-f10d17d5-7a5b-4ed2-a0bc-4cce5a8f9aba\">\n",
              "  <button class=\"colab-df-quickchart\" onclick=\"quickchart('df-f10d17d5-7a5b-4ed2-a0bc-4cce5a8f9aba')\"\n",
              "            title=\"Suggest charts\"\n",
              "            style=\"display:none;\">\n",
              "\n",
              "<svg xmlns=\"http://www.w3.org/2000/svg\" height=\"24px\"viewBox=\"0 0 24 24\"\n",
              "     width=\"24px\">\n",
              "    <g>\n",
              "        <path d=\"M19 3H5c-1.1 0-2 .9-2 2v14c0 1.1.9 2 2 2h14c1.1 0 2-.9 2-2V5c0-1.1-.9-2-2-2zM9 17H7v-7h2v7zm4 0h-2V7h2v10zm4 0h-2v-4h2v4z\"/>\n",
              "    </g>\n",
              "</svg>\n",
              "  </button>\n",
              "\n",
              "<style>\n",
              "  .colab-df-quickchart {\n",
              "      --bg-color: #E8F0FE;\n",
              "      --fill-color: #1967D2;\n",
              "      --hover-bg-color: #E2EBFA;\n",
              "      --hover-fill-color: #174EA6;\n",
              "      --disabled-fill-color: #AAA;\n",
              "      --disabled-bg-color: #DDD;\n",
              "  }\n",
              "\n",
              "  [theme=dark] .colab-df-quickchart {\n",
              "      --bg-color: #3B4455;\n",
              "      --fill-color: #D2E3FC;\n",
              "      --hover-bg-color: #434B5C;\n",
              "      --hover-fill-color: #FFFFFF;\n",
              "      --disabled-bg-color: #3B4455;\n",
              "      --disabled-fill-color: #666;\n",
              "  }\n",
              "\n",
              "  .colab-df-quickchart {\n",
              "    background-color: var(--bg-color);\n",
              "    border: none;\n",
              "    border-radius: 50%;\n",
              "    cursor: pointer;\n",
              "    display: none;\n",
              "    fill: var(--fill-color);\n",
              "    height: 32px;\n",
              "    padding: 0;\n",
              "    width: 32px;\n",
              "  }\n",
              "\n",
              "  .colab-df-quickchart:hover {\n",
              "    background-color: var(--hover-bg-color);\n",
              "    box-shadow: 0 1px 2px rgba(60, 64, 67, 0.3), 0 1px 3px 1px rgba(60, 64, 67, 0.15);\n",
              "    fill: var(--button-hover-fill-color);\n",
              "  }\n",
              "\n",
              "  .colab-df-quickchart-complete:disabled,\n",
              "  .colab-df-quickchart-complete:disabled:hover {\n",
              "    background-color: var(--disabled-bg-color);\n",
              "    fill: var(--disabled-fill-color);\n",
              "    box-shadow: none;\n",
              "  }\n",
              "\n",
              "  .colab-df-spinner {\n",
              "    border: 2px solid var(--fill-color);\n",
              "    border-color: transparent;\n",
              "    border-bottom-color: var(--fill-color);\n",
              "    animation:\n",
              "      spin 1s steps(1) infinite;\n",
              "  }\n",
              "\n",
              "  @keyframes spin {\n",
              "    0% {\n",
              "      border-color: transparent;\n",
              "      border-bottom-color: var(--fill-color);\n",
              "      border-left-color: var(--fill-color);\n",
              "    }\n",
              "    20% {\n",
              "      border-color: transparent;\n",
              "      border-left-color: var(--fill-color);\n",
              "      border-top-color: var(--fill-color);\n",
              "    }\n",
              "    30% {\n",
              "      border-color: transparent;\n",
              "      border-left-color: var(--fill-color);\n",
              "      border-top-color: var(--fill-color);\n",
              "      border-right-color: var(--fill-color);\n",
              "    }\n",
              "    40% {\n",
              "      border-color: transparent;\n",
              "      border-right-color: var(--fill-color);\n",
              "      border-top-color: var(--fill-color);\n",
              "    }\n",
              "    60% {\n",
              "      border-color: transparent;\n",
              "      border-right-color: var(--fill-color);\n",
              "    }\n",
              "    80% {\n",
              "      border-color: transparent;\n",
              "      border-right-color: var(--fill-color);\n",
              "      border-bottom-color: var(--fill-color);\n",
              "    }\n",
              "    90% {\n",
              "      border-color: transparent;\n",
              "      border-bottom-color: var(--fill-color);\n",
              "    }\n",
              "  }\n",
              "</style>\n",
              "\n",
              "  <script>\n",
              "    async function quickchart(key) {\n",
              "      const quickchartButtonEl =\n",
              "        document.querySelector('#' + key + ' button');\n",
              "      quickchartButtonEl.disabled = true;  // To prevent multiple clicks.\n",
              "      quickchartButtonEl.classList.add('colab-df-spinner');\n",
              "      try {\n",
              "        const charts = await google.colab.kernel.invokeFunction(\n",
              "            'suggestCharts', [key], {});\n",
              "      } catch (error) {\n",
              "        console.error('Error during call to suggestCharts:', error);\n",
              "      }\n",
              "      quickchartButtonEl.classList.remove('colab-df-spinner');\n",
              "      quickchartButtonEl.classList.add('colab-df-quickchart-complete');\n",
              "    }\n",
              "    (() => {\n",
              "      let quickchartButtonEl =\n",
              "        document.querySelector('#df-f10d17d5-7a5b-4ed2-a0bc-4cce5a8f9aba button');\n",
              "      quickchartButtonEl.style.display =\n",
              "        google.colab.kernel.accessAllowed ? 'block' : 'none';\n",
              "    })();\n",
              "  </script>\n",
              "</div>\n",
              "\n",
              "    </div>\n",
              "  </div>\n"
            ],
            "application/vnd.google.colaboratory.intrinsic+json": {
              "type": "dataframe",
              "variable_name": "df"
            }
          },
          "metadata": {},
          "execution_count": 3
        }
      ]
    },
    {
      "cell_type": "markdown",
      "source": [
        "# Structure of dataset:"
      ],
      "metadata": {
        "id": "2nGSqMQMldj0"
      }
    },
    {
      "cell_type": "code",
      "source": [
        "df.shape # Shape of the dataset"
      ],
      "metadata": {
        "colab": {
          "base_uri": "https://localhost:8080/"
        },
        "id": "LSvjWdN__pYY",
        "outputId": "0c75591c-37bf-443a-a9ff-8e3647aa0c0f"
      },
      "execution_count": null,
      "outputs": [
        {
          "output_type": "execute_result",
          "data": {
            "text/plain": [
              "(550068, 10)"
            ]
          },
          "metadata": {},
          "execution_count": 4
        }
      ]
    },
    {
      "cell_type": "code",
      "source": [
        "df.info() # Some information about the different columns in the dataset"
      ],
      "metadata": {
        "colab": {
          "base_uri": "https://localhost:8080/"
        },
        "id": "utM_2RYOIK9K",
        "outputId": "0543a514-f2ca-415c-e74a-8eba490aaba3"
      },
      "execution_count": null,
      "outputs": [
        {
          "output_type": "stream",
          "name": "stdout",
          "text": [
            "<class 'pandas.core.frame.DataFrame'>\n",
            "RangeIndex: 550068 entries, 0 to 550067\n",
            "Data columns (total 10 columns):\n",
            " #   Column                      Non-Null Count   Dtype \n",
            "---  ------                      --------------   ----- \n",
            " 0   User_ID                     550068 non-null  int64 \n",
            " 1   Product_ID                  550068 non-null  object\n",
            " 2   Gender                      550068 non-null  object\n",
            " 3   Age                         550068 non-null  object\n",
            " 4   Occupation                  550068 non-null  int64 \n",
            " 5   City_Category               550068 non-null  object\n",
            " 6   Stay_In_Current_City_Years  550068 non-null  object\n",
            " 7   Marital_Status              550068 non-null  int64 \n",
            " 8   Product_Category            550068 non-null  int64 \n",
            " 9   Purchase                    550068 non-null  int64 \n",
            "dtypes: int64(5), object(5)\n",
            "memory usage: 42.0+ MB\n"
          ]
        }
      ]
    },
    {
      "cell_type": "code",
      "source": [
        "df['Age'].unique()  # Age Groups in the Age column"
      ],
      "metadata": {
        "colab": {
          "base_uri": "https://localhost:8080/"
        },
        "id": "zQSxie_LTUPF",
        "outputId": "0edffc7d-ce20-486e-9227-dab27360423f"
      },
      "execution_count": null,
      "outputs": [
        {
          "output_type": "execute_result",
          "data": {
            "text/plain": [
              "array(['0-17', '55+', '26-35', '46-50', '51-55', '36-45', '18-25'],\n",
              "      dtype=object)"
            ]
          },
          "metadata": {},
          "execution_count": 23
        }
      ]
    },
    {
      "cell_type": "code",
      "source": [
        "# Checking the null values in the dataset\n",
        "\n",
        "df.isnull().sum()"
      ],
      "metadata": {
        "id": "tR1Nby0p__bg",
        "colab": {
          "base_uri": "https://localhost:8080/",
          "height": 397
        },
        "outputId": "ba8f17d6-0bc7-403e-aa3a-a349068b0985"
      },
      "execution_count": null,
      "outputs": [
        {
          "output_type": "execute_result",
          "data": {
            "text/plain": [
              "User_ID                       0\n",
              "Product_ID                    0\n",
              "Gender                        0\n",
              "Age                           0\n",
              "Occupation                    0\n",
              "City_Category                 0\n",
              "Stay_In_Current_City_Years    0\n",
              "Marital_Status                0\n",
              "Product_Category              0\n",
              "Purchase                      0\n",
              "dtype: int64"
            ],
            "text/html": [
              "<div>\n",
              "<style scoped>\n",
              "    .dataframe tbody tr th:only-of-type {\n",
              "        vertical-align: middle;\n",
              "    }\n",
              "\n",
              "    .dataframe tbody tr th {\n",
              "        vertical-align: top;\n",
              "    }\n",
              "\n",
              "    .dataframe thead th {\n",
              "        text-align: right;\n",
              "    }\n",
              "</style>\n",
              "<table border=\"1\" class=\"dataframe\">\n",
              "  <thead>\n",
              "    <tr style=\"text-align: right;\">\n",
              "      <th></th>\n",
              "      <th>0</th>\n",
              "    </tr>\n",
              "  </thead>\n",
              "  <tbody>\n",
              "    <tr>\n",
              "      <th>User_ID</th>\n",
              "      <td>0</td>\n",
              "    </tr>\n",
              "    <tr>\n",
              "      <th>Product_ID</th>\n",
              "      <td>0</td>\n",
              "    </tr>\n",
              "    <tr>\n",
              "      <th>Gender</th>\n",
              "      <td>0</td>\n",
              "    </tr>\n",
              "    <tr>\n",
              "      <th>Age</th>\n",
              "      <td>0</td>\n",
              "    </tr>\n",
              "    <tr>\n",
              "      <th>Occupation</th>\n",
              "      <td>0</td>\n",
              "    </tr>\n",
              "    <tr>\n",
              "      <th>City_Category</th>\n",
              "      <td>0</td>\n",
              "    </tr>\n",
              "    <tr>\n",
              "      <th>Stay_In_Current_City_Years</th>\n",
              "      <td>0</td>\n",
              "    </tr>\n",
              "    <tr>\n",
              "      <th>Marital_Status</th>\n",
              "      <td>0</td>\n",
              "    </tr>\n",
              "    <tr>\n",
              "      <th>Product_Category</th>\n",
              "      <td>0</td>\n",
              "    </tr>\n",
              "    <tr>\n",
              "      <th>Purchase</th>\n",
              "      <td>0</td>\n",
              "    </tr>\n",
              "  </tbody>\n",
              "</table>\n",
              "</div><br><label><b>dtype:</b> int64</label>"
            ]
          },
          "metadata": {},
          "execution_count": 7
        }
      ]
    },
    {
      "cell_type": "markdown",
      "source": [
        "\n",
        "\n",
        "---\n",
        "\n",
        "\n",
        "\n",
        "---\n",
        "\n"
      ],
      "metadata": {
        "id": "k0F-sMf5lQzm"
      }
    },
    {
      "cell_type": "markdown",
      "source": [
        "**Checking for the outliers in the dataset.**"
      ],
      "metadata": {
        "id": "0nCsgBkzk74h"
      }
    },
    {
      "cell_type": "markdown",
      "source": [
        "Since only Purchase column has continuous data while others are categorical.\n",
        "\n",
        "So, we have used the boxplot for the detection of outliers."
      ],
      "metadata": {
        "id": "SFUmIImCOPEe"
      }
    },
    {
      "cell_type": "code",
      "source": [
        "# Boxplot for 'Purchase'\n",
        "\n",
        "sns.boxplot(y=df['Purchase'])\n",
        "plt.title('Boxplot for Purchase')\n",
        "plt.ylabel('Purchase Amount')\n",
        "plt.show()"
      ],
      "metadata": {
        "colab": {
          "base_uri": "https://localhost:8080/",
          "height": 433
        },
        "id": "worP_3S-HJBB",
        "outputId": "4da5dd47-920f-40f7-edf0-a6cb2c289956"
      },
      "execution_count": null,
      "outputs": [
        {
          "output_type": "display_data",
          "data": {
            "text/plain": [
              "<Figure size 640x480 with 1 Axes>"
            ],
            "image/png": "[encoded data removed]"
          },
          "metadata": {}
        }
      ]
    },
    {
      "cell_type": "markdown",
      "source": [
        "\n",
        "\n",
        "---\n",
        "\n",
        "\n",
        "\n",
        "---\n",
        "\n"
      ],
      "metadata": {
        "id": "YUFv1UFbl4eg"
      }
    },
    {
      "cell_type": "markdown",
      "source": [
        "# EDA :"
      ],
      "metadata": {
        "id": "1amKEsR0llv8"
      }
    },
    {
      "cell_type": "markdown",
      "source": [
        "**1. Different Products Vs Age Groups:**"
      ],
      "metadata": {
        "id": "h2qXllDbl6jo"
      }
    },
    {
      "cell_type": "code",
      "source": [
        "plt.figure(figsize=(10,6))\n",
        "sns.histplot(data=df, x='Product_Category', hue='Age', multiple='stack', kde=False, palette='viridis')\n",
        "plt.title('Distribution of Product Categories by Age Group')\n",
        "plt.xlabel('Product Category')\n",
        "plt.ylabel('Amount')\n",
        "plt.xticks(rotation=45)\n",
        "plt.show()\n"
      ],
      "metadata": {
        "colab": {
          "base_uri": "https://localhost:8080/",
          "height": 465
        },
        "id": "fQfFbnBSO0L0",
        "outputId": "48615d38-4026-4712-8f27-ad33372a4802"
      },
      "execution_count": null,
      "outputs": [
        {
          "output_type": "display_data",
          "data": {
            "text/plain": [
              "<Figure size 1000x600 with 1 Axes>"
            ],
            "image/png": "[encoded data removed]"
          },
          "metadata": {}
        }
      ]
    },
    {
      "cell_type": "markdown",
      "source": [
        "**Inference:**\n",
        "\n",
        "Product categories, such as Category 5, Category 1, and Category 8, have\n",
        "significantly higher purchase counts compared to others across all age groups while categories such as 10, 12, and beyond 15 have relatively fewer purchases.\n",
        "\n",
        "---\n",
        "\n",
        "---\n",
        "\n",
        "\n",
        "\n"
      ],
      "metadata": {
        "id": "SZ6AHLtBmP64"
      }
    },
    {
      "cell_type": "markdown",
      "source": [
        "**2. Relationship between age, marital status, and the amount spent.**"
      ],
      "metadata": {
        "id": "_mVf60pAnJla"
      }
    },
    {
      "cell_type": "code",
      "source": [
        "# Group data by Age and Marital_Status and calculate the average Purchase\n",
        "age_marital_purchase = df.groupby(['Age', 'Marital_Status'])['Purchase'].mean().reset_index()\n",
        "\n",
        "# Rename columns for clarity\n",
        "age_marital_purchase.columns = ['Age', 'Marital_Status', 'Avg_Purchase']\n",
        "\n",
        "print(age_marital_purchase)\n"
      ],
      "metadata": {
        "colab": {
          "base_uri": "https://localhost:8080/"
        },
        "id": "qgLRAMMmQko0",
        "outputId": "be99c6be-bef9-4009-fc47-51b095d46b99"
      },
      "execution_count": null,
      "outputs": [
        {
          "output_type": "stream",
          "name": "stdout",
          "text": [
            "      Age  Marital_Status  Avg_Purchase\n",
            "0    0-17               0   8933.464640\n",
            "1   18-25               0   9216.752419\n",
            "2   18-25               1   8994.509992\n",
            "3   26-35               0   9252.566484\n",
            "4   26-35               1   9252.882410\n",
            "5   36-45               0   9402.515329\n",
            "6   36-45               1   9223.098451\n",
            "7   46-50               0   8956.529551\n",
            "8   46-50               1   9305.535821\n",
            "9   51-55               0   9575.827475\n",
            "10  51-55               1   9518.735088\n",
            "11    55+               0   9539.774959\n",
            "12    55+               1   9218.510315\n"
          ]
        }
      ]
    },
    {
      "cell_type": "code",
      "source": [
        "# Barplot to show the relationship between Age, Marital_Status, and Purchase\n",
        "plt.figure(figsize=(12, 8))\n",
        "sns.barplot(data=age_marital_purchase, x='Age', y='Avg_Purchase', hue='Marital_Status')\n",
        "\n",
        "# Add titles and labels\n",
        "plt.title('Relationship Between Age, Marital Status, and Average Purchase Amount')\n",
        "plt.xlabel('Age Group')\n",
        "plt.ylabel('Average Purchase Amount')\n",
        "plt.legend(labels=['Unmarried', 'Married'])\n",
        "plt.xticks(rotation=45)\n",
        "plt.show()"
      ],
      "metadata": {
        "colab": {
          "base_uri": "https://localhost:8080/",
          "height": 509
        },
        "id": "mUmkemUwSx6j",
        "outputId": "748033b7-28bb-4ca2-8f57-98bb65ba10bf"
      },
      "execution_count": null,
      "outputs": [
        {
          "output_type": "display_data",
          "data": {
            "text/plain": [
              "<Figure size 1200x800 with 1 Axes>"
            ],
            "image/png": "[encoded data removed]"
          },
          "metadata": {}
        }
      ]
    },
    {
      "cell_type": "markdown",
      "source": [
        "**Inference:**\n",
        "\n",
        "From the above data and barplot we infer that there is no significant difference in average spending against the marital status across all age groups. They are almost similar.\n",
        "\n",
        "---\n",
        "\n",
        "\n",
        "\n",
        "---\n",
        "\n"
      ],
      "metadata": {
        "id": "DPQ8mXvvndEz"
      }
    },
    {
      "cell_type": "markdown",
      "source": [
        "**3. Preferred product categories for different genders**"
      ],
      "metadata": {
        "id": "JeGV7l8jVvFh"
      }
    },
    {
      "cell_type": "code",
      "source": [
        "plt.figure(figsize=(12, 5))\n",
        "sns.histplot(data=df, x='Product_Category', hue='Gender', multiple='stack', kde=False, palette={'M': 'green', 'F': 'yellow'})\n",
        "plt.title('Preferred Product Categories by Gender')\n",
        "plt.xlabel('Product Category')\n",
        "plt.ylabel('Count')\n",
        "plt.legend(labels=['Male', 'Female'])\n",
        "plt.show()\n"
      ],
      "metadata": {
        "colab": {
          "base_uri": "https://localhost:8080/",
          "height": 334
        },
        "id": "pm_0icAnS8eS",
        "outputId": "afba1010-2182-4acf-9628-2b7e0a404be8"
      },
      "execution_count": null,
      "outputs": [
        {
          "output_type": "display_data",
          "data": {
            "text/plain": [
              "<Figure size 1200x500 with 1 Axes>"
            ],
            "image/png": "[encoded data removed]"
          },
          "metadata": {}
        }
      ]
    },
    {
      "cell_type": "markdown",
      "source": [
        "**Inference:**\n",
        "\n",
        "By the above barplot we observed that the product categories 5, 1, 8 are preferred in both male and female customers.\n",
        "\n",
        "---\n",
        "\n",
        "\n",
        "\n",
        "---\n",
        "\n"
      ],
      "metadata": {
        "id": "3t6tWnNxomnA"
      }
    },
    {
      "cell_type": "markdown",
      "source": [
        "**4. Average amount spent Vs Gender.**"
      ],
      "metadata": {
        "id": "-nLWUGNipLOC"
      }
    },
    {
      "cell_type": "code",
      "source": [
        "# Calculate the average purchase amount for each gender\n",
        "average_purchase_by_gender = round(df.groupby('Gender')['Purchase'].mean(), 2)\n",
        "\n",
        "# Display the results\n",
        "print(\"Average Purchase Amount by Gender:\")\n",
        "print(average_purchase_by_gender.reset_index())"
      ],
      "metadata": {
        "colab": {
          "base_uri": "https://localhost:8080/"
        },
        "id": "B6dyoVxgV156",
        "outputId": "eb44ab1a-f56f-4860-ff96-08348589cea3"
      },
      "execution_count": null,
      "outputs": [
        {
          "output_type": "stream",
          "name": "stdout",
          "text": [
            "Average Purchase Amount by Gender:\n",
            "  Gender  Purchase\n",
            "0      F   8734.57\n",
            "1      M   9437.53\n"
          ]
        }
      ]
    },
    {
      "cell_type": "code",
      "source": [
        "# Ploting a pie-chart for the above data\n",
        "\n",
        "plt.pie(average_purchase_by_gender, labels = average_purchase_by_gender.index, startangle=90, explode = (0,0.1), autopct='%1.2f%%', colors= sns.color_palette('Set1'))\n",
        "plt.show()"
      ],
      "metadata": {
        "colab": {
          "base_uri": "https://localhost:8080/",
          "height": 406
        },
        "id": "hP3f90lYpoDA",
        "outputId": "02351da3-b678-4347-9ed5-51a15d06a236"
      },
      "execution_count": null,
      "outputs": [
        {
          "output_type": "display_data",
          "data": {
            "text/plain": [
              "<Figure size 640x480 with 1 Axes>"
            ],
            "image/png": "[encoded data removed]"
          },
          "metadata": {}
        }
      ]
    },
    {
      "cell_type": "markdown",
      "source": [
        "**Inference:**\n",
        "\n",
        "Here with the above data and graph we see that males spend slightly higher than the female customers.\n",
        "\n",
        "---\n",
        "\n",
        "\n",
        "\n",
        "---\n",
        "\n"
      ],
      "metadata": {
        "id": "cPg6-wnqrujK"
      }
    },
    {
      "cell_type": "markdown",
      "source": [
        "# Central Limit Theorem (CLT)"
      ],
      "metadata": {
        "id": "rm8lNGGwdsz6"
      }
    },
    {
      "cell_type": "markdown",
      "source": [
        "The central limit states that \"the mean of a random sample will resemble even closer to the population mean as the sample size increases and\n",
        "it will approximate a normal distribution regardless of the shape of the population distribution\".\n",
        "\n",
        "---\n",
        "\n",
        "\n"
      ],
      "metadata": {
        "id": "MCer4VPRtPr-"
      }
    },
    {
      "cell_type": "code",
      "source": [
        "#Import norm\n",
        "from scipy.stats import norm"
      ],
      "metadata": {
        "id": "a6UEK52Z6mjU"
      },
      "execution_count": null,
      "outputs": []
    },
    {
      "cell_type": "code",
      "source": [
        "# Extract relevant columns\n",
        "data = df[['Gender', 'Purchase']]\n",
        "\n",
        "# Separate data by gender\n",
        "male_data = data[data['Gender'] == 'M']['Purchase']\n",
        "female_data = data[data['Gender'] == 'F']['Purchase']\n",
        "\n",
        "# Function to calculate confidence intervals using CLT\n",
        "def clt_confidence_interval(data, alpha=0.05):\n",
        "    n = len(data)\n",
        "    mean = np.mean(data)\n",
        "    std_dev = np.std(data, ddof=1)\n",
        "    z = norm.ppf(1 - alpha/2)\n",
        "    margin_of_error = z * (std_dev / np.sqrt(n))\n",
        "    return mean - margin_of_error, mean + margin_of_error\n",
        "\n",
        "print(\"Confidence Intervals for different samples sizes i.e. 300, 3000, 30000 using CLT : \")\n",
        "\n",
        "# Analyze smaller sample sizes and observe the distribution of means\n",
        "sample_sizes = [300, 3000, 30000]\n",
        "means_male = {}\n",
        "means_female = {}\n",
        "\n",
        "for size in sample_sizes:\n",
        "    male_sample_means = []\n",
        "    female_sample_means = []\n",
        "\n",
        "    for _ in range(1000):  # Repeat sampling to observe the distribution\n",
        "        male_sample = np.random.choice(male_data, size=size, replace=False)\n",
        "        female_sample = np.random.choice(female_data, size=size, replace=False)\n",
        "\n",
        "        male_sample_means.append(np.mean(male_sample))\n",
        "        female_sample_means.append(np.mean(female_sample))\n",
        "\n",
        "    means_male[size] = male_sample_means\n",
        "    means_female[size] = female_sample_means\n",
        "\n",
        "    male_clt_ci = clt_confidence_interval(male_sample)\n",
        "    female_clt_ci = clt_confidence_interval(female_sample)\n",
        "\n",
        "    print(f\"\\nSample Size {size} (CLT):\")\n",
        "    print(f\"Male: {male_clt_ci}\")\n",
        "    print(f\"Female: {female_clt_ci}\")"
      ],
      "metadata": {
        "colab": {
          "base_uri": "https://localhost:8080/"
        },
        "id": "nwNWUnCgW900",
        "outputId": "df3474be-2bf1-426a-b5bd-beaecf0954db"
      },
      "execution_count": null,
      "outputs": [
        {
          "output_type": "stream",
          "name": "stdout",
          "text": [
            "Confidence Intervals for different samples i.e. 300, 3000, 30000 using CLT : \n",
            "\n",
            "Sample Size 300 (CLT):\n",
            "Male: (8603.351848494256, 9770.59481817241)\n",
            "Female: (8293.31886431767, 9383.694469015662)\n",
            "\n",
            "Sample Size 3000 (CLT):\n",
            "Male: (9020.041090396073, 9374.42424293726)\n",
            "Female: (8550.23656612012, 8891.69543387988)\n",
            "\n",
            "Sample Size 30000 (CLT):\n",
            "Male: (9418.405398695058, 9533.654867971609)\n",
            "Female: (8668.244934655488, 8776.102532011178)\n"
          ]
        }
      ]
    },
    {
      "cell_type": "markdown",
      "source": [
        "**Inference :**\n",
        "\n",
        "1. For the largest sample size (30,000), the confidence intervals are quite narrow and similar in width. However, in smaller sample sizes (e.g., 300), the confidence intervals are wider for males than females.\n",
        "2. As the sample size increases, the width of the confidence interval decreases as it depends on the standard error, which decreases with larger sample sizes.\n",
        "3. With the above data we see that, for sample size 300 there is a significant amount of overlapping which shows similar spending behaviour while for 30000 there is no overlapping indicating a significant difference in spending behaviour.\n",
        "4. As the sample size increases, the sampling distribution of the mean becomes narrower and more symmetric, closely approximating a normal distribution."
      ],
      "metadata": {
        "id": "oclveYl6C-VT"
      }
    },
    {
      "cell_type": "code",
      "source": [
        "# Extract relevant columns\n",
        "data = df[['Marital_Status', 'Purchase']]\n",
        "\n",
        "# Separate data by gender\n",
        "married_data = data[data['Marital_Status'] == 1]['Purchase']\n",
        "unmarried_data = data[data['Marital_Status'] == 0]['Purchase']\n",
        "\n",
        "# Function to calculate confidence intervals using CLT\n",
        "def clt_confidence_interval(data, alpha=0.05):\n",
        "    n = len(data)\n",
        "    mean = np.mean(data)\n",
        "    std_dev = np.std(data, ddof=1)\n",
        "    z = norm.ppf(1 - alpha/2)\n",
        "    margin_of_error = z * (std_dev / np.sqrt(n))\n",
        "    return mean - margin_of_error, mean + margin_of_error\n",
        "\n",
        "print(\"Confidence Intervals for different samples sizes i.e. 300, 3000, 30000 using CLT : \")\n",
        "\n",
        "# Analyze smaller sample sizes and observe the distribution of means\n",
        "sample_sizes = [300, 3000, 30000]\n",
        "means_married = {}\n",
        "means_unmarried = {}\n",
        "\n",
        "for size in sample_sizes:\n",
        "    married_sample_means = []\n",
        "    unmarried_sample_means = []\n",
        "\n",
        "    for _ in range(1000):  # Repeat sampling to observe the distribution\n",
        "        married_sample = np.random.choice(married_data, size=size, replace=False)\n",
        "        unmarried_sample = np.random.choice(unmarried_data, size=size, replace=False)\n",
        "\n",
        "        married_sample_means.append(np.mean(married_sample))\n",
        "        unmarried_sample_means.append(np.mean(unmarried_sample))\n",
        "\n",
        "    means_married[size] = married_sample_means\n",
        "    means_unmarried[size] = unmarried_sample_means\n",
        "\n",
        "    married_clt_ci = clt_confidence_interval(married_sample)\n",
        "    unmarried_clt_ci = clt_confidence_interval(unmarried_sample)\n",
        "\n",
        "    print(f\"\\nSample Size {size} (CLT):\")\n",
        "    print(f\"Married: {married_clt_ci}\")\n",
        "    print(f\"Unmarried: {unmarried_clt_ci}\")"
      ],
      "metadata": {
        "id": "DvLv0djKdzJr",
        "colab": {
          "base_uri": "https://localhost:8080/"
        },
        "outputId": "78cde658-cd17-4acf-e18c-8d57f9cbee5a"
      },
      "execution_count": null,
      "outputs": [
        {
          "output_type": "stream",
          "name": "stdout",
          "text": [
            "Confidence Intervals for different samples sizes i.e. 300, 3000, 30000 using CLT : \n",
            "\n",
            "Sample Size 300 (CLT):\n",
            "Married: (8682.718565672822, 9858.834767660512)\n",
            "Unmarried: (8886.260532947226, 10066.599467052774)\n",
            "\n",
            "Sample Size 3000 (CLT):\n",
            "Married: (8995.57264678887, 9352.556019877797)\n",
            "Unmarried: (9061.968285068011, 9430.133714931988)\n",
            "\n",
            "Sample Size 30000 (CLT):\n",
            "Married: (9184.20888158942, 9297.311318410579)\n",
            "Unmarried: (9243.948467111923, 9357.560999554744)\n"
          ]
        }
      ]
    },
    {
      "cell_type": "markdown",
      "source": [
        "**Inference :**\n",
        "\n",
        "1. The confidence intervals for both married and unmarried groups are narrow and similar. As we see in the above data, for 30000 sample size the the width of the CIs are very similar i.e. 113.10 and 113.61 respectively, and for 300 sample size, the CIs are wider and differ slightly i.e. 1176.12 and 1180.34 respectively.\n",
        "2. The width of the confidence interval decreases as the sample size increases because the confidence interval width is inversely proportional to the square root of the sample size.\n",
        "3. The confidence intervals for married and unmarried groups overlap significantly for smaller sample size(300) suggesting no clear difference in average spending while for larger sample size(30000), it barely overlaps suggesting a significant difference in spending between the groups.\n",
        "4. As the sample size increases, the sampling distribution of the mean becomes narrower and more symmetric, closely approximating a normal distribution."
      ],
      "metadata": {
        "id": "HO2ghxYcOq4y"
      }
    },
    {
      "cell_type": "code",
      "source": [
        "# Extract relevant columns\n",
        "data = df[['Age', 'Purchase']]\n",
        "\n",
        "# Function to calculate confidence intervals using CLT\n",
        "def clt_confidence_interval(data, alpha=0.05):\n",
        "    n = len(data)\n",
        "    mean = np.mean(data)\n",
        "    std_dev = np.std(data, ddof=1)\n",
        "    z = norm.ppf(1 - alpha/2)\n",
        "    margin_of_error = z * (std_dev / np.sqrt(n))\n",
        "    return mean - margin_of_error, mean + margin_of_error\n",
        "\n",
        "print(\"Confidence Intervals for different sample sizes using CLT by Age Groups:\")\n",
        "\n",
        "# Sample sizes to analyze\n",
        "sample_sizes = [300, 3000, 30000]\n",
        "means_age_groups = {}\n",
        "\n",
        "# Analyze smaller sample sizes for each age group\n",
        "for size in sample_sizes:\n",
        "    for age_group in data['Age'].unique():  # Loop through unique age bins (e.g., '0-17', '18-25')\n",
        "        age_group_data = data[data['Age'] == age_group]['Purchase']\n",
        "        group_size = len(age_group_data)\n",
        "\n",
        "        # Ensure the sample size does not exceed the group size\n",
        "        sample_size = min(size, group_size)\n",
        "\n",
        "        age_group_sample_means = []\n",
        "\n",
        "        for _ in range(1000):  # Repeat sampling to observe the distribution\n",
        "            age_group_sample = np.random.choice(age_group_data, size=sample_size, replace=True)  # Allow replacement if sample size > group size\n",
        "            age_group_sample_means.append(np.mean(age_group_sample))\n",
        "\n",
        "        means_age_groups[(size, age_group)] = age_group_sample_means\n",
        "\n",
        "        age_group_clt_ci = clt_confidence_interval(age_group_sample)\n",
        "\n",
        "        print(f\"\\nSample Size {size} (CLT) - Age Group {age_group}:\")\n",
        "        print(f\"Confidence Interval: {age_group_clt_ci}\")\n"
      ],
      "metadata": {
        "colab": {
          "base_uri": "https://localhost:8080/"
        },
        "id": "aIhko27MVGti",
        "outputId": "74017a13-9983-4c36-dead-30d383096d91"
      },
      "execution_count": null,
      "outputs": [
        {
          "output_type": "stream",
          "name": "stdout",
          "text": [
            "Confidence Intervals for different sample sizes using CLT by Age Groups:\n",
            "\n",
            "Sample Size 300 (CLT) - Age Group 0-17:\n",
            "Confidence Interval: (8297.18766675275, 9433.092333247248)\n",
            "\n",
            "Sample Size 300 (CLT) - Age Group 55+:\n",
            "Confidence Interval: (8879.91094130194, 9951.60905869806)\n",
            "\n",
            "Sample Size 300 (CLT) - Age Group 26-35:\n",
            "Confidence Interval: (8262.781385735978, 9399.651947597356)\n",
            "\n",
            "Sample Size 300 (CLT) - Age Group 46-50:\n",
            "Confidence Interval: (8288.075044094758, 9383.02495590524)\n",
            "\n",
            "Sample Size 300 (CLT) - Age Group 51-55:\n",
            "Confidence Interval: (8937.640294435914, 10074.946372230752)\n",
            "\n",
            "Sample Size 300 (CLT) - Age Group 36-45:\n",
            "Confidence Interval: (8476.533624231, 9595.166375769)\n",
            "\n",
            "Sample Size 300 (CLT) - Age Group 18-25:\n",
            "Confidence Interval: (9091.800466246825, 10249.712867086508)\n",
            "\n",
            "Sample Size 3000 (CLT) - Age Group 0-17:\n",
            "Confidence Interval: (8772.279669830268, 9139.538996836398)\n",
            "\n",
            "Sample Size 3000 (CLT) - Age Group 55+:\n",
            "Confidence Interval: (9041.023448003201, 9402.862551996797)\n",
            "\n",
            "Sample Size 3000 (CLT) - Age Group 26-35:\n",
            "Confidence Interval: (9234.36939932682, 9602.619934006514)\n",
            "\n",
            "Sample Size 3000 (CLT) - Age Group 46-50:\n",
            "Confidence Interval: (8952.79525595818, 9307.22674404182)\n",
            "\n",
            "Sample Size 3000 (CLT) - Age Group 51-55:\n",
            "Confidence Interval: (9413.837544651256, 9781.451788682078)\n",
            "\n",
            "Sample Size 3000 (CLT) - Age Group 36-45:\n",
            "Confidence Interval: (9080.088787561372, 9436.321212438628)\n",
            "\n",
            "Sample Size 3000 (CLT) - Age Group 18-25:\n",
            "Confidence Interval: (8968.081781036142, 9329.74821896386)\n",
            "\n",
            "Sample Size 30000 (CLT) - Age Group 0-17:\n",
            "Confidence Interval: (8787.6871092631, 8949.603713144526)\n",
            "\n",
            "Sample Size 30000 (CLT) - Age Group 55+:\n",
            "Confidence Interval: (9286.105163880224, 9419.631815286444)\n",
            "\n",
            "Sample Size 30000 (CLT) - Age Group 26-35:\n",
            "Confidence Interval: (9188.502458537609, 9301.394674795723)\n",
            "\n",
            "Sample Size 30000 (CLT) - Age Group 46-50:\n",
            "Confidence Interval: (9125.285374355484, 9237.34035897785)\n",
            "\n",
            "Sample Size 30000 (CLT) - Age Group 51-55:\n",
            "Confidence Interval: (9469.708361040184, 9584.85170562648)\n",
            "\n",
            "Sample Size 30000 (CLT) - Age Group 36-45:\n",
            "Confidence Interval: (9282.62932710025, 9396.51247289975)\n",
            "\n",
            "Sample Size 30000 (CLT) - Age Group 18-25:\n",
            "Confidence Interval: (9120.690676123322, 9234.953657210011)\n"
          ]
        }
      ]
    },
    {
      "cell_type": "markdown",
      "source": [
        "**Inference :**\n",
        "\n",
        "1. Larger sample sizes reduce variability due to the CLT, resulting in narrow and similar confidence intervals for all groups. As sample size increases, the confidence interval width shrinks, leading to more precise estimates of the population mean.\n",
        "\n",
        "      According to the above output, for the largest sample size (30,000), the confidence intervals for all age groups are narrow and similar while for smaller sample sizes (300), the confidence intervals are wider and can differ more across age groups.\n",
        "\n",
        "2. The width of the confidence interval decreases as the sample size increases as the sample size increases, the margin of error decreases, resulting in narrower confidence intervals.\n",
        "\n",
        "3. For the sample size 300, the confidence intervals for all age groups overlap significantly, indicating substantial variability in mean spending between groups. While for sample size 30000, The confidence intervals for the age groups barely overlap, especially for groups like \"26-35\" and \"55+\" where the difference in spending becomes clearer.\n",
        "\n",
        "  This suggests that at larger sample sizes, the differences in mean spending between groups become statistically significant.\n",
        "\n",
        "4. As the sample size increases, the sampling distribution of the mean becomes narrower and more symmetric, closely approximating a normal distribution.\n",
        "\n",
        "---\n",
        "\n",
        "\n",
        "\n",
        "---\n",
        "\n"
      ],
      "metadata": {
        "id": "aUdxtQ-AduDr"
      }
    },
    {
      "cell_type": "markdown",
      "source": [
        "# Detailed Recommendation for Walmart Management"
      ],
      "metadata": {
        "id": "50GlsYtzMUl_"
      }
    },
    {
      "cell_type": "markdown",
      "source": [
        "Based on the analysis conducted on the dataset of 550,068 transactions during Black Friday, here are detailed insights and actionable recommendations:\n",
        "\n",
        "---\n",
        "\n"
      ],
      "metadata": {
        "id": "h55OTgghMXaO"
      }
    },
    {
      "cell_type": "markdown",
      "source": [
        "**1.  Gender-Based Spending Insights:**"
      ],
      "metadata": {
        "id": "m6xia_xbM2QY"
      }
    },
    {
      "cell_type": "markdown",
      "source": [
        "\n",
        "\n",
        "*   Target high-value product promotions and premium loyalty programs toward male customers, as they demonstrate a higher spending capacity.\n",
        "*   Create specialized promotions for female customers focusing on value-based deals to encourage higher spending.\n",
        "*   Stock more high-ticket items popular among male customers, especially during peak shopping periods.\n",
        "*   Investigate product categories preferred by females and increase\n",
        "variety or offer discounts to boost their spending.\n",
        "\n",
        "---\n",
        "\n",
        "\n",
        "\n",
        "\n",
        "\n"
      ],
      "metadata": {
        "id": "fe_uTBZQM-mT"
      }
    },
    {
      "cell_type": "markdown",
      "source": [
        "**2. Marital Status Spending Insights:**"
      ],
      "metadata": {
        "id": "4tDuju7gN3rb"
      }
    },
    {
      "cell_type": "markdown",
      "source": [
        "\n",
        "\n",
        "*   Married customers: Promote family-oriented products, home essentials, and bundled offerings (e.g., family packs, groceries).\n",
        "*   Unmarried customers: Focus on personal care items, electronics, and lifestyle goods to cater to their preferences.\n",
        "*   Design targeted campaigns during holidays when married customers might spend more on gifts and household items\n",
        "*   For unmarried customers, emphasize personal indulgence products or holiday deals on gadgets and entertainment.\n",
        "\n",
        "---\n",
        "\n",
        "\n",
        "\n",
        "\n",
        "\n"
      ],
      "metadata": {
        "id": "yM1W0MZTOPNI"
      }
    },
    {
      "cell_type": "markdown",
      "source": [
        "**3. Age Group based spending Insights:**"
      ],
      "metadata": {
        "id": "gCRq97c5O3eW"
      }
    },
    {
      "cell_type": "markdown",
      "source": [
        "\n",
        "\n",
        "*   Age 0-17: Walmart could introduce more budget-friendly products or educational toys and engage in promotions that target younger customers and their parents.\n",
        "*   Age 55+: Products like healthcare items, senior-friendly electronics, and comfort-focused home goods can be marketed to appeal to older customers who may have different spending priorities.\n",
        "*   For age groups that show overlap in their spending behavior (e.g., 26-35 vs. 36-45), Walmart could create broader promotions that appeal to a wider range of customers.\n",
        "*   Younger age groups (18-25) could be shown products related to fashion, technology, and entertainment, where their spending may be focused.\n",
        "\n",
        "---\n",
        "\n",
        "\n",
        "\n",
        "---\n",
        "\n",
        "\n",
        "\n",
        "\n",
        "\n"
      ],
      "metadata": {
        "id": "BVBCgs54O_nY"
      }
    }
  ]
}